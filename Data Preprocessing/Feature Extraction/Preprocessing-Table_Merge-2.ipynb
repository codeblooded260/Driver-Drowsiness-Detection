{
 "cells": [
  {
   "cell_type": "code",
   "execution_count": 1,
   "id": "61ccc2c7",
   "metadata": {},
   "outputs": [],
   "source": [
    "import pandas as pd\n",
    "import os\n",
    "import glob"
   ]
  },
  {
   "cell_type": "code",
   "execution_count": 4,
   "id": "5b192415",
   "metadata": {},
   "outputs": [],
   "source": [
    "tables = glob.glob(\"..\\\\Data_2\\\\*.csv\")"
   ]
  },
  {
   "cell_type": "code",
   "execution_count": 5,
   "id": "caab82d8",
   "metadata": {
    "scrolled": true
   },
   "outputs": [
    {
     "data": {
      "text/plain": [
       "['..\\\\Data_2\\\\Table__kaggle_input_uta-reallife-drowsiness-dataset_Fold3_part2_Fold3_part2_31_0_mp.csv',\n",
       " '..\\\\Data_2\\\\Table__kaggle_input_uta-reallife-drowsiness-dataset_Fold3_part2_Fold3_part2_31_10_mp.csv',\n",
       " '..\\\\Data_2\\\\Table__kaggle_input_uta-reallife-drowsiness-dataset_Fold3_part2_Fold3_part2_31_5_mp.csv',\n",
       " '..\\\\Data_2\\\\Table__kaggle_input_uta-reallife-drowsiness-dataset_Fold3_part2_Fold3_part2_33_0_mp.csv',\n",
       " '..\\\\Data_2\\\\Table__kaggle_input_uta-reallife-drowsiness-dataset_Fold3_part2_Fold3_part2_33_10_mp.csv',\n",
       " '..\\\\Data_2\\\\Table__kaggle_input_uta-reallife-drowsiness-dataset_Fold3_part2_Fold3_part2_33_5_mp.csv',\n",
       " '..\\\\Data_2\\\\Table__kaggle_input_uta-reallife-drowsiness-dataset_Fold3_part2_Fold3_part2_34_0.mov.csv',\n",
       " '..\\\\Data_2\\\\Table__kaggle_input_uta-reallife-drowsiness-dataset_Fold3_part2_Fold3_part2_34_10_mp.csv',\n",
       " '..\\\\Data_2\\\\Table__kaggle_input_uta-reallife-drowsiness-dataset_Fold3_part2_Fold3_part2_34_5.mov.csv',\n",
       " '..\\\\Data_2\\\\Table__kaggle_input_uta-reallife-drowsiness-dataset_Fold4_part1_Fold4_part1_37_0.mov.csv',\n",
       " '..\\\\Data_2\\\\Table__kaggle_input_uta-reallife-drowsiness-dataset_Fold4_part1_Fold4_part1_37_10.mov.csv',\n",
       " '..\\\\Data_2\\\\Table__kaggle_input_uta-reallife-drowsiness-dataset_Fold4_part1_Fold4_part1_37_5.mov.csv',\n",
       " '..\\\\Data_2\\\\Table__kaggle_input_uta-reallife-drowsiness-dataset_Fold4_part1_Fold4_part1_38_0_mp.csv',\n",
       " '..\\\\Data_2\\\\Table__kaggle_input_uta-reallife-drowsiness-dataset_Fold4_part1_Fold4_part1_38_10_mp.csv',\n",
       " '..\\\\Data_2\\\\Table__kaggle_input_uta-reallife-drowsiness-dataset_Fold4_part1_Fold4_part1_38_5_mp.csv',\n",
       " '..\\\\Data_2\\\\Table__kaggle_input_uta-reallife-drowsiness-dataset_Fold4_part1_Fold4_part1_39_0.MP4.csv',\n",
       " '..\\\\Data_2\\\\Table__kaggle_input_uta-reallife-drowsiness-dataset_Fold4_part1_Fold4_part1_39_10.MOV.csv',\n",
       " '..\\\\Data_2\\\\Table__kaggle_input_uta-reallife-drowsiness-dataset_Fold4_part1_Fold4_part1_39_5.MOV.csv',\n",
       " '..\\\\Data_2\\\\Table__kaggle_input_uta-reallife-drowsiness-dataset_Fold4_part1_Fold4_part1_40_0_mp.csv',\n",
       " '..\\\\Data_2\\\\Table__kaggle_input_uta-reallife-drowsiness-dataset_Fold4_part1_Fold4_part1_40_10_mp.csv',\n",
       " '..\\\\Data_2\\\\Table__kaggle_input_uta-reallife-drowsiness-dataset_Fold4_part1_Fold4_part1_40_5_mp.csv',\n",
       " '..\\\\Data_2\\\\Table__kaggle_input_uta-reallife-drowsiness-dataset_Fold4_part1_Fold4_part1_41_0.MP4.csv',\n",
       " '..\\\\Data_2\\\\Table__kaggle_input_uta-reallife-drowsiness-dataset_Fold4_part1_Fold4_part1_41_10.MOV.csv',\n",
       " '..\\\\Data_2\\\\Table__kaggle_input_uta-reallife-drowsiness-dataset_Fold4_part1_Fold4_part1_41_5_mp.csv',\n",
       " '..\\\\Data_2\\\\Table__kaggle_input_uta-reallife-drowsiness-dataset_Fold4_part2_Fold4_part2_42_0_mp.csv',\n",
       " '..\\\\Data_2\\\\Table__kaggle_input_uta-reallife-drowsiness-dataset_Fold4_part2_Fold4_part2_42_10_mp.csv',\n",
       " '..\\\\Data_2\\\\Table__kaggle_input_uta-reallife-drowsiness-dataset_Fold4_part2_Fold4_part2_42_5_mp.csv',\n",
       " '..\\\\Data_2\\\\Table__kaggle_input_uta-reallife-drowsiness-dataset_Fold4_part2_Fold4_part2_43_0.mov.csv',\n",
       " '..\\\\Data_2\\\\Table__kaggle_input_uta-reallife-drowsiness-dataset_Fold4_part2_Fold4_part2_43_10.mov.csv',\n",
       " '..\\\\Data_2\\\\Table__kaggle_input_uta-reallife-drowsiness-dataset_Fold4_part2_Fold4_part2_43_5_mp.csv',\n",
       " '..\\\\Data_2\\\\Table__kaggle_input_uta-reallife-drowsiness-dataset_Fold4_part2_Fold4_part2_44_0.mov.csv',\n",
       " '..\\\\Data_2\\\\Table__kaggle_input_uta-reallife-drowsiness-dataset_Fold4_part2_Fold4_part2_44_10.mov.csv',\n",
       " '..\\\\Data_2\\\\Table__kaggle_input_uta-reallife-drowsiness-dataset_Fold4_part2_Fold4_part2_44_5.mov.csv',\n",
       " '..\\\\Data_2\\\\Table__kaggle_input_uta-reallife-drowsiness-dataset_Fold4_part2_Fold4_part2_45_0_mp.csv',\n",
       " '..\\\\Data_2\\\\Table__kaggle_input_uta-reallife-drowsiness-dataset_Fold4_part2_Fold4_part2_45_10_mp.csv',\n",
       " '..\\\\Data_2\\\\Table__kaggle_input_uta-reallife-drowsiness-dataset_Fold4_part2_Fold4_part2_45_5_mp.csv',\n",
       " '..\\\\Data_2\\\\Table__kaggle_input_uta-reallife-drowsiness-dataset_Fold4_part2_Fold4_part2_46_0.m4v.csv',\n",
       " '..\\\\Data_2\\\\Table__kaggle_input_uta-reallife-drowsiness-dataset_Fold4_part2_Fold4_part2_46_10.mov.csv',\n",
       " '..\\\\Data_2\\\\Table__kaggle_input_uta-reallife-drowsiness-dataset_Fold4_part2_Fold4_part2_46_5.m4v.csv',\n",
       " '..\\\\Data_2\\\\Table__kaggle_input_uta-reallife-drowsiness-dataset_Fold4_part2_Fold4_part2_47_0_mp.csv',\n",
       " '..\\\\Data_2\\\\Table__kaggle_input_uta-reallife-drowsiness-dataset_Fold4_part2_Fold4_part2_47_10_mp.csv',\n",
       " '..\\\\Data_2\\\\Table__kaggle_input_uta-reallife-drowsiness-dataset_Fold4_part2_Fold4_part2_47_5_mp.csv',\n",
       " '..\\\\Data_2\\\\Table__kaggle_input_uta-reallife-drowsiness-dataset_Fold4_part2_Fold4_part2_48_0.MOV.csv',\n",
       " '..\\\\Data_2\\\\Table__kaggle_input_uta-reallife-drowsiness-dataset_Fold4_part2_Fold4_part2_48_10.MOV.csv',\n",
       " '..\\\\Data_2\\\\Table__kaggle_input_uta-reallife-drowsiness-dataset_Fold4_part2_Fold4_part2_48_5.MOV.csv']"
      ]
     },
     "execution_count": 5,
     "metadata": {},
     "output_type": "execute_result"
    }
   ],
   "source": [
    "tables"
   ]
  },
  {
   "cell_type": "code",
   "execution_count": 6,
   "id": "f5c61199",
   "metadata": {},
   "outputs": [
    {
     "data": {
      "text/plain": [
       "45"
      ]
     },
     "execution_count": 6,
     "metadata": {},
     "output_type": "execute_result"
    }
   ],
   "source": [
    "len(tables)"
   ]
  },
  {
   "cell_type": "code",
   "execution_count": 8,
   "id": "3cae0fbb",
   "metadata": {},
   "outputs": [
    {
     "name": "stdout",
     "output_type": "stream",
     "text": [
      "0\n",
      "1\n",
      "2\n",
      "..\\Data_2\\Table__kaggle_input_uta-reallife-drowsiness-dataset_Fold3_part2_Fold3_part2_31_0_mp.csv\n",
      "..\\Data_2\\Table__kaggle_input_uta-reallife-drowsiness-dataset_Fold3_part2_Fold3_part2_31_10_mp.csv\n",
      "..\\Data_2\\Table__kaggle_input_uta-reallife-drowsiness-dataset_Fold3_part2_Fold3_part2_31_5_mp.csv\n",
      "3\n",
      "4\n",
      "5\n",
      "..\\Data_2\\Table__kaggle_input_uta-reallife-drowsiness-dataset_Fold3_part2_Fold3_part2_33_0_mp.csv\n",
      "..\\Data_2\\Table__kaggle_input_uta-reallife-drowsiness-dataset_Fold3_part2_Fold3_part2_33_10_mp.csv\n",
      "..\\Data_2\\Table__kaggle_input_uta-reallife-drowsiness-dataset_Fold3_part2_Fold3_part2_33_5_mp.csv\n",
      "6\n",
      "7\n",
      "8\n",
      "..\\Data_2\\Table__kaggle_input_uta-reallife-drowsiness-dataset_Fold3_part2_Fold3_part2_34_0.mov.csv\n",
      "..\\Data_2\\Table__kaggle_input_uta-reallife-drowsiness-dataset_Fold3_part2_Fold3_part2_34_10_mp.csv\n",
      "..\\Data_2\\Table__kaggle_input_uta-reallife-drowsiness-dataset_Fold3_part2_Fold3_part2_34_5.mov.csv\n",
      "9\n",
      "10\n",
      "11\n",
      "..\\Data_2\\Table__kaggle_input_uta-reallife-drowsiness-dataset_Fold4_part1_Fold4_part1_37_0.mov.csv\n",
      "..\\Data_2\\Table__kaggle_input_uta-reallife-drowsiness-dataset_Fold4_part1_Fold4_part1_37_10.mov.csv\n",
      "..\\Data_2\\Table__kaggle_input_uta-reallife-drowsiness-dataset_Fold4_part1_Fold4_part1_37_5.mov.csv\n",
      "12\n",
      "13\n",
      "14\n",
      "..\\Data_2\\Table__kaggle_input_uta-reallife-drowsiness-dataset_Fold4_part1_Fold4_part1_38_0_mp.csv\n",
      "..\\Data_2\\Table__kaggle_input_uta-reallife-drowsiness-dataset_Fold4_part1_Fold4_part1_38_10_mp.csv\n",
      "..\\Data_2\\Table__kaggle_input_uta-reallife-drowsiness-dataset_Fold4_part1_Fold4_part1_38_5_mp.csv\n",
      "15\n",
      "16\n",
      "17\n",
      "..\\Data_2\\Table__kaggle_input_uta-reallife-drowsiness-dataset_Fold4_part1_Fold4_part1_39_0.MP4.csv\n",
      "..\\Data_2\\Table__kaggle_input_uta-reallife-drowsiness-dataset_Fold4_part1_Fold4_part1_39_10.MOV.csv\n",
      "..\\Data_2\\Table__kaggle_input_uta-reallife-drowsiness-dataset_Fold4_part1_Fold4_part1_39_5.MOV.csv\n",
      "18\n",
      "19\n",
      "20\n",
      "..\\Data_2\\Table__kaggle_input_uta-reallife-drowsiness-dataset_Fold4_part1_Fold4_part1_40_0_mp.csv\n",
      "..\\Data_2\\Table__kaggle_input_uta-reallife-drowsiness-dataset_Fold4_part1_Fold4_part1_40_10_mp.csv\n",
      "..\\Data_2\\Table__kaggle_input_uta-reallife-drowsiness-dataset_Fold4_part1_Fold4_part1_40_5_mp.csv\n",
      "21\n",
      "22\n",
      "23\n",
      "..\\Data_2\\Table__kaggle_input_uta-reallife-drowsiness-dataset_Fold4_part1_Fold4_part1_41_0.MP4.csv\n",
      "..\\Data_2\\Table__kaggle_input_uta-reallife-drowsiness-dataset_Fold4_part1_Fold4_part1_41_10.MOV.csv\n",
      "..\\Data_2\\Table__kaggle_input_uta-reallife-drowsiness-dataset_Fold4_part1_Fold4_part1_41_5_mp.csv\n",
      "24\n",
      "25\n",
      "26\n",
      "..\\Data_2\\Table__kaggle_input_uta-reallife-drowsiness-dataset_Fold4_part2_Fold4_part2_42_0_mp.csv\n",
      "..\\Data_2\\Table__kaggle_input_uta-reallife-drowsiness-dataset_Fold4_part2_Fold4_part2_42_10_mp.csv\n",
      "..\\Data_2\\Table__kaggle_input_uta-reallife-drowsiness-dataset_Fold4_part2_Fold4_part2_42_5_mp.csv\n",
      "27\n",
      "28\n",
      "29\n",
      "..\\Data_2\\Table__kaggle_input_uta-reallife-drowsiness-dataset_Fold4_part2_Fold4_part2_43_0.mov.csv\n",
      "..\\Data_2\\Table__kaggle_input_uta-reallife-drowsiness-dataset_Fold4_part2_Fold4_part2_43_10.mov.csv\n",
      "..\\Data_2\\Table__kaggle_input_uta-reallife-drowsiness-dataset_Fold4_part2_Fold4_part2_43_5_mp.csv\n",
      "30\n",
      "31\n",
      "32\n",
      "..\\Data_2\\Table__kaggle_input_uta-reallife-drowsiness-dataset_Fold4_part2_Fold4_part2_44_0.mov.csv\n",
      "..\\Data_2\\Table__kaggle_input_uta-reallife-drowsiness-dataset_Fold4_part2_Fold4_part2_44_10.mov.csv\n",
      "..\\Data_2\\Table__kaggle_input_uta-reallife-drowsiness-dataset_Fold4_part2_Fold4_part2_44_5.mov.csv\n",
      "33\n",
      "34\n",
      "35\n",
      "..\\Data_2\\Table__kaggle_input_uta-reallife-drowsiness-dataset_Fold4_part2_Fold4_part2_45_0_mp.csv\n",
      "..\\Data_2\\Table__kaggle_input_uta-reallife-drowsiness-dataset_Fold4_part2_Fold4_part2_45_10_mp.csv\n",
      "..\\Data_2\\Table__kaggle_input_uta-reallife-drowsiness-dataset_Fold4_part2_Fold4_part2_45_5_mp.csv\n",
      "36\n",
      "37\n",
      "38\n",
      "..\\Data_2\\Table__kaggle_input_uta-reallife-drowsiness-dataset_Fold4_part2_Fold4_part2_46_0.m4v.csv\n",
      "..\\Data_2\\Table__kaggle_input_uta-reallife-drowsiness-dataset_Fold4_part2_Fold4_part2_46_10.mov.csv\n",
      "..\\Data_2\\Table__kaggle_input_uta-reallife-drowsiness-dataset_Fold4_part2_Fold4_part2_46_5.m4v.csv\n",
      "39\n",
      "40\n",
      "41\n",
      "..\\Data_2\\Table__kaggle_input_uta-reallife-drowsiness-dataset_Fold4_part2_Fold4_part2_47_0_mp.csv\n",
      "..\\Data_2\\Table__kaggle_input_uta-reallife-drowsiness-dataset_Fold4_part2_Fold4_part2_47_10_mp.csv\n",
      "..\\Data_2\\Table__kaggle_input_uta-reallife-drowsiness-dataset_Fold4_part2_Fold4_part2_47_5_mp.csv\n",
      "42\n",
      "43\n",
      "44\n",
      "..\\Data_2\\Table__kaggle_input_uta-reallife-drowsiness-dataset_Fold4_part2_Fold4_part2_48_0.MOV.csv\n",
      "..\\Data_2\\Table__kaggle_input_uta-reallife-drowsiness-dataset_Fold4_part2_Fold4_part2_48_10.MOV.csv\n",
      "..\\Data_2\\Table__kaggle_input_uta-reallife-drowsiness-dataset_Fold4_part2_Fold4_part2_48_5.MOV.csv\n"
     ]
    }
   ],
   "source": [
    "pid = 33\n",
    "cols_name = ['ID','EAR','MAR','CIR','MOE','State']\n",
    "for i in range(0,len(tables),3):\n",
    "    print(i)\n",
    "    print(i+1)\n",
    "    print(i+2)\n",
    "    table_1 = tables[i]\n",
    "    table_2 = tables[i+1]\n",
    "    table_3 = tables[i+2]\n",
    "    print(tables[i])\n",
    "    print(tables[i+1])\n",
    "    print(tables[i+2])\n",
    "    df_1 = pd.read_csv(table_1,header = None, names=cols_name)\n",
    "    df_2 = pd.read_csv(table_2,header = None, names=cols_name)\n",
    "    df_3 = pd.read_csv(table_3,header = None, names=cols_name)\n",
    "    \n",
    "    df_merged = pd.concat([df_1,df_2,df_3], axis=0)\n",
    "    df_merged.to_csv(f\"..\\\\Merged_2\\\\Table_{pid}.csv\")\n",
    "    pid += 1"
   ]
  }
 ],
 "metadata": {
  "kernelspec": {
   "display_name": "Python 3 (ipykernel)",
   "language": "python",
   "name": "python3"
  },
  "language_info": {
   "codemirror_mode": {
    "name": "ipython",
    "version": 3
   },
   "file_extension": ".py",
   "mimetype": "text/x-python",
   "name": "python",
   "nbconvert_exporter": "python",
   "pygments_lexer": "ipython3",
   "version": "3.9.16"
  }
 },
 "nbformat": 4,
 "nbformat_minor": 5
}
